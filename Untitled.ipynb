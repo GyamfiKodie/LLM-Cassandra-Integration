{
 "cells": [
  {
   "cell_type": "code",
   "execution_count": 1,
   "id": "4d070083",
   "metadata": {},
   "outputs": [
    {
     "name": "stderr",
     "output_type": "stream",
     "text": [
      "\n",
      "[notice] A new release of pip is available: 23.3.2 -> 24.1.2\n",
      "[notice] To update, run: d:\\users\\gyamfi\\appdata\\local\\programs\\python\\python38\\python.exe -m pip install --upgrade pip\n",
      "\n",
      "[notice] A new release of pip is available: 23.3.2 -> 24.1.2\n",
      "[notice] To update, run: d:\\users\\gyamfi\\appdata\\local\\programs\\python\\python38\\python.exe -m pip install --upgrade pip\n",
      "\n",
      "[notice] A new release of pip is available: 23.3.2 -> 24.1.2\n",
      "[notice] To update, run: d:\\users\\gyamfi\\appdata\\local\\programs\\python\\python38\\python.exe -m pip install --upgrade pip\n",
      "\n",
      "[notice] A new release of pip is available: 23.3.2 -> 24.1.2\n",
      "[notice] To update, run: d:\\users\\gyamfi\\appdata\\local\\programs\\python\\python38\\python.exe -m pip install --upgrade pip\n",
      "\n",
      "[notice] A new release of pip is available: 23.3.2 -> 24.1.2\n",
      "[notice] To update, run: d:\\users\\gyamfi\\appdata\\local\\programs\\python\\python38\\python.exe -m pip install --upgrade pip\n",
      "\n",
      "[notice] A new release of pip is available: 23.3.2 -> 24.1.2\n",
      "[notice] To update, run: d:\\users\\gyamfi\\appdata\\local\\programs\\python\\python38\\python.exe -m pip install --upgrade pip\n"
     ]
    }
   ],
   "source": [
    "!pip install -q cassandra-driver\n",
    "!pip install -q cassio>=0.1.1\n",
    "!pip install -q gradientai --upgrade\n",
    "!pip install -q llama-index\n",
    "!pip install -q pypdf\n",
    "!pip install -q tiktoken==0.4.0"
   ]
  },
  {
   "cell_type": "code",
   "execution_count": 3,
   "id": "d1ce0eab",
   "metadata": {},
   "outputs": [
    {
     "name": "stdout",
     "output_type": "stream",
     "text": [
      "Package                 Version\n",
      "----------------------- -----------\n",
      "aenum                   3.1.15\n",
      "aiohttp                 3.9.3\n",
      "aiosignal               1.3.1\n",
      "anyio                   4.2.0\n",
      "asttokens               2.4.1\n",
      "async-timeout           4.0.3\n",
      "attrs                   23.2.0\n",
      "backcall                0.2.0\n",
      "cassandra-driver        3.29.0\n",
      "cassio                  0.1.4\n",
      "certifi                 2023.11.17\n",
      "charset-normalizer      3.3.2\n",
      "click                   8.1.7\n",
      "cmake                   3.28.1\n",
      "colorama                0.4.6\n",
      "comm                    0.2.1\n",
      "contourpy               1.1.1\n",
      "cycler                  0.12.1\n",
      "dataclasses-json        0.6.3\n",
      "debugpy                 1.8.0\n",
      "decorator               5.1.1\n",
      "Deprecated              1.2.14\n",
      "dirtyjson               1.0.8\n",
      "distlib                 0.3.8\n",
      "distro                  1.9.0\n",
      "dlib                    19.22.99\n",
      "exceptiongroup          1.2.0\n",
      "executing               2.0.1\n",
      "face-recognition        1.3.0\n",
      "face-recognition-models 0.3.0\n",
      "filelock                3.13.1\n",
      "fonttools               4.47.0\n",
      "frozenlist              1.4.1\n",
      "fsspec                  2023.12.2\n",
      "geomet                  0.2.1.post1\n",
      "gradientai              1.7.0\n",
      "greenlet                3.0.3\n",
      "h11                     0.14.0\n",
      "httpcore                1.0.2\n",
      "httpx                   0.26.0\n",
      "idna                    3.6\n",
      "importlib-metadata      7.0.1\n",
      "importlib-resources     6.1.1\n",
      "ipykernel               6.28.0\n",
      "ipython                 8.12.3\n",
      "jedi                    0.19.1\n",
      "joblib                  1.3.2\n",
      "jupyter_client          8.6.0\n",
      "jupyter_core            5.7.0\n",
      "keras                   2.15.0\n",
      "kiwisolver              1.4.5\n",
      "llama-index             0.9.40\n",
      "marshmallow             3.20.2\n",
      "matplotlib              3.7.4\n",
      "matplotlib-inline       0.1.6\n",
      "multidict               6.0.4\n",
      "mypy-extensions         1.0.0\n",
      "nest-asyncio            1.5.8\n",
      "networkx                3.1\n",
      "nltk                    3.8.1\n",
      "numpy                   1.24.4\n",
      "openai                  1.10.0\n",
      "opencv-python           4.9.0.80\n",
      "packaging               23.2\n",
      "pandas                  2.0.3\n",
      "parso                   0.8.3\n",
      "pickleshare             0.7.5\n",
      "pillow                  10.2.0\n",
      "pip                     23.3.2\n",
      "platformdirs            4.1.0\n",
      "prompt-toolkit          3.0.43\n",
      "psutil                  5.9.7\n",
      "pure-eval               0.2.2\n",
      "pydantic                1.10.14\n",
      "Pygments                2.17.2\n",
      "pyparsing               3.1.1\n",
      "pypdf                   4.0.1\n",
      "python-dateutil         2.8.2\n",
      "pytz                    2023.4\n",
      "pywin32                 306\n",
      "pyzmq                   25.1.2\n",
      "regex                   2023.12.25\n",
      "requests                2.31.0\n",
      "scikit-learn            1.3.2\n",
      "scipy                   1.10.1\n",
      "setuptools              56.0.0\n",
      "six                     1.16.0\n",
      "sniffio                 1.3.0\n",
      "SQLAlchemy              2.0.25\n",
      "stack-data              0.6.3\n",
      "tenacity                8.2.3\n",
      "threadpoolctl           3.2.0\n",
      "tiktoken                0.4.0\n",
      "tornado                 6.4\n",
      "tqdm                    4.66.1\n",
      "traitlets               5.14.1\n",
      "typing_extensions       4.9.0\n",
      "typing-inspect          0.9.0\n",
      "tzdata                  2023.4\n",
      "urllib3                 2.2.0\n",
      "virtualenv              20.25.0\n",
      "wcwidth                 0.2.13\n",
      "wrapt                   1.16.0\n",
      "yarl                    1.9.4\n",
      "zipp                    3.17.0\n"
     ]
    }
   ],
   "source": [
    "!pip list"
   ]
  },
  {
   "cell_type": "code",
   "execution_count": 3,
   "id": "6094b5da",
   "metadata": {},
   "outputs": [],
   "source": [
    "from cassandra.auth import PlainTextAuthProvider\n",
    "from cassandra.cluster import Cluster\n",
    "from llama_index import ServiceContext\n",
    "from llama_index import set_global_service_context\n",
    "from llama_index import VectorStoreIndex, SimpleDirectoryReader, StorageContext\n",
    "from llama_index.embeddings import GradientEmbedding\n",
    "from llama_index.llms import GradientBaseModelLLM\n",
    "from llama_index.vector_stores import CassandraVectorStore"
   ]
  },
  {
   "cell_type": "code",
   "execution_count": 4,
   "id": "84f460b3",
   "metadata": {},
   "outputs": [
    {
     "name": "stdout",
     "output_type": "stream",
     "text": [
      "3.29.0\n"
     ]
    }
   ],
   "source": [
    "import cassandra\n",
    "print(cassandra.__version__)"
   ]
  },
  {
   "cell_type": "code",
   "execution_count": 8,
   "id": "dc603076",
   "metadata": {},
   "outputs": [
    {
     "name": "stdout",
     "output_type": "stream",
     "text": [
      "4.0.11-09ec37c912ed\n"
     ]
    }
   ],
   "source": [
    "# !pip install python-dotenv\n",
    "\n",
    "from dotenv import load_dotenv, dotenv_values\n",
    "import os\n",
    "import json\n",
    "import time \n",
    "\n",
    "load_dotenv()\n",
    "\n",
    "cloud_config = {\n",
    "    'secure_connect_bundle':os.path.join(os.getcwd(),'secure-connect-temp-keyspace.zip')\n",
    "}\n",
    "\n",
    "with open(os.path.join(os.getcwd(),'gyamfikodie4@gmail.com-token(1).json')) as f:\n",
    "    secrets = json.load(f)\n",
    "\n",
    "CLIENT_ID = secrets[\"clientId\"]\n",
    "CLIENT_SECRET = secrets[\"secret\"]\n",
    "\n",
    "auth_provider = PlainTextAuthProvider(CLIENT_ID,CLIENT_SECRET)\n",
    "\n",
    "max_retries = 3\n",
    "retry_delay_seconds = 5\n",
    "\n",
    "for attempt in range(max_retries):\n",
    "    try:\n",
    "        cluster = Cluster(cloud=cloud_config, auth_provider=auth_provider)\n",
    "        session = cluster.connect()\n",
    "        break  # Successful connection, exit loop\n",
    "    except Exception as e:\n",
    "        print(f\"Error: {e}\")\n",
    "        print(f\"Retrying in {retry_delay_seconds} seconds...\")\n",
    "        time.sleep(retry_delay_seconds)\n",
    "else:\n",
    "    print(\"Max retries reached. Unable to establish a connection.\")\n",
    "\n",
    "\n",
    "row = session.execute(\"select release_version from system.local\").one()\n",
    "\n",
    "if row:\n",
    "    print(row[0])\n",
    "else:\n",
    "    print(\"An error occured.\")"
   ]
  },
  {
   "cell_type": "code",
   "execution_count": 10,
   "id": "9365e26b",
   "metadata": {},
   "outputs": [],
   "source": [
    "# llm = GradientBaseModelLLM(\n",
    "#     base_model_slug=\"llama2-7b-chat\",\n",
    "#     max_tokens=400,\n",
    "# )\n",
    "llm = GradientBaseModelLLM(\n",
    "    access_token=os.getenv(\"GRADIENT_ACCESS_TOKEN_TEMP\"),\n",
    "    base_model_slug=\"llama2-7b-chat\",\n",
    "    max_tokens=400,\n",
    ")\n"
   ]
  },
  {
   "cell_type": "code",
   "execution_count": 11,
   "id": "0e4d2c2e",
   "metadata": {},
   "outputs": [],
   "source": [
    "embed_model = GradientEmbedding(\n",
    "    gradient_access_token = os.getenv(\"GRADIENT_ACCESS_TOKEN_TEMP\"),\n",
    "    gradient_workspace_id = os.getenv(\"GRADIENT_WORKSPACE_ID\"),\n",
    "    gradient_model_slug = \"bge-large\",\n",
    ")"
   ]
  },
  {
   "cell_type": "code",
   "execution_count": 12,
   "id": "49298e33",
   "metadata": {},
   "outputs": [],
   "source": [
    "service_context = ServiceContext.from_defaults(\n",
    "    llm = llm,\n",
    "    embed_model = embed_model,\n",
    "    chunk_size=256,\n",
    ")\n",
    "\n",
    "set_global_service_context(service_context)"
   ]
  },
  {
   "cell_type": "code",
   "execution_count": 13,
   "id": "ce760463",
   "metadata": {},
   "outputs": [
    {
     "name": "stdout",
     "output_type": "stream",
     "text": [
      "Loaded 434 document(s).\n"
     ]
    }
   ],
   "source": [
    "documents = SimpleDirectoryReader(os.path.join(os.getcwd(),'Documents')).load_data()\n",
    "print(f\"Loaded {len(documents)} document(s).\")"
   ]
  },
  {
   "cell_type": "code",
   "execution_count": 14,
   "id": "e3c2449d",
   "metadata": {},
   "outputs": [],
   "source": [
    "index = VectorStoreIndex.from_documents(documents,\n",
    "                                       service_context=service_context)\n",
    "query_engine = index.as_query_engine()"
   ]
  },
  {
   "cell_type": "code",
   "execution_count": 15,
   "id": "9f97a920",
   "metadata": {},
   "outputs": [
    {
     "name": "stdout",
     "output_type": "stream",
     "text": [
      " Based on the provided context, a person can be classified as an adult in Ghana at the age of 16.\n",
      "\n",
      "According to clause (4) of article 7 of the Constitution of Ghana, a child of not more than 16 years of age who is neither of whose parents is a citizen of Ghana who is adopted by a citizen of Ghana shall, by virtue of the adoption, be a citizen of Ghana. Therefore, 16 is the age at which a person can be considered an adult in Ghana.\n"
     ]
    }
   ],
   "source": [
    "response = query_engine.query(\"at what age can a person be classified as an adult in Ghana?\")\n",
    "print(response)"
   ]
  },
  {
   "cell_type": "code",
   "execution_count": null,
   "id": "488c6f27",
   "metadata": {},
   "outputs": [],
   "source": []
  }
 ],
 "metadata": {
  "kernelspec": {
   "display_name": "llm",
   "language": "python",
   "name": "llm"
  },
  "language_info": {
   "codemirror_mode": {
    "name": "ipython",
    "version": 3
   },
   "file_extension": ".py",
   "mimetype": "text/x-python",
   "name": "python",
   "nbconvert_exporter": "python",
   "pygments_lexer": "ipython3",
   "version": "3.8.10"
  }
 },
 "nbformat": 4,
 "nbformat_minor": 5
}
